{
  "nbformat": 4,
  "nbformat_minor": 0,
  "metadata": {
    "colab": {
      "provenance": []
    },
    "kernelspec": {
      "name": "python3",
      "display_name": "Python 3"
    },
    "language_info": {
      "name": "python"
    }
  },
  "cells": [
    {
      "cell_type": "code",
      "execution_count": 1,
      "metadata": {
        "colab": {
          "base_uri": "https://localhost:8080/"
        },
        "id": "cgKSR0O_wzqF",
        "outputId": "8cce0e28-a39a-482f-a9c3-83885c9a9572"
      },
      "outputs": [
        {
          "output_type": "stream",
          "name": "stdout",
          "text": [
            "Collecting scikit-surprise\n",
            "  Downloading scikit-surprise-1.1.3.tar.gz (771 kB)\n",
            "\u001b[2K     \u001b[90m━━━━━━━━━━━━━━━━━━━━━━━━━━━━━━━━━━━━━━━━\u001b[0m \u001b[32m772.0/772.0 kB\u001b[0m \u001b[31m7.6 MB/s\u001b[0m eta \u001b[36m0:00:00\u001b[0m\n",
            "\u001b[?25h  Preparing metadata (setup.py) ... \u001b[?25l\u001b[?25hdone\n",
            "Requirement already satisfied: joblib>=1.0.0 in /usr/local/lib/python3.10/dist-packages (from scikit-surprise) (1.3.2)\n",
            "Requirement already satisfied: numpy>=1.17.3 in /usr/local/lib/python3.10/dist-packages (from scikit-surprise) (1.23.5)\n",
            "Requirement already satisfied: scipy>=1.3.2 in /usr/local/lib/python3.10/dist-packages (from scikit-surprise) (1.11.4)\n",
            "Building wheels for collected packages: scikit-surprise\n",
            "  Building wheel for scikit-surprise (setup.py) ... \u001b[?25l\u001b[?25hdone\n",
            "  Created wheel for scikit-surprise: filename=scikit_surprise-1.1.3-cp310-cp310-linux_x86_64.whl size=3162674 sha256=6a99ad8052f986eb3a8747592258ed4977f87918bad8dd96fbdfcbdbff954d49\n",
            "  Stored in directory: /root/.cache/pip/wheels/a5/ca/a8/4e28def53797fdc4363ca4af740db15a9c2f1595ebc51fb445\n",
            "Successfully built scikit-surprise\n",
            "Installing collected packages: scikit-surprise\n",
            "Successfully installed scikit-surprise-1.1.3\n"
          ]
        }
      ],
      "source": [
        "!pip install scikit-surprise\n"
      ]
    },
    {
      "cell_type": "code",
      "source": [
        "import pandas as pd\n",
        "from surprise import Dataset, Reader, KNNBasic\n",
        "from surprise.model_selection import train_test_split, GridSearchCV\n",
        "from surprise import accuracy  # Add this import\n",
        "\n",
        "# Load MovieLens dataset (you can download it from https://grouplens.org/datasets/movielens/)\n",
        "# For this example, we'll use the small dataset.\n",
        "data = pd.read_csv('/content/ratings_small.csv')\n",
        "\n",
        "# Surprise library requires a specific format for the dataset\n",
        "reader = Reader(rating_scale=(0.5, 5))\n",
        "dataset = Dataset.load_from_df(data[['userId', 'movieId', 'rating']], reader)\n",
        "\n",
        "# Split the dataset into training and testing sets\n",
        "trainset, testset = train_test_split(dataset, test_size=0.2, random_state=42)\n",
        "\n",
        "# Define the parameter grid for tuning\n",
        "param_grid = {'k': [20, 30, 40], 'sim_options': {'name': ['cosine'], 'user_based': [True]}}\n",
        "\n",
        "# Use GridSearchCV for hyperparameter tuning\n",
        "grid_search = GridSearchCV(KNNBasic, param_grid, measures=['rmse'], cv=3)\n",
        "grid_search.fit(dataset)\n",
        "\n",
        "# Get the best parameters\n",
        "best_params = grid_search.best_params['rmse']\n",
        "print(\"Best Parameters:\", best_params)\n",
        "\n",
        "# Use the best parameters to train the model\n",
        "best_model = KNNBasic(k=best_params['k'], sim_options=best_params['sim_options'])\n",
        "best_model.fit(trainset)\n",
        "\n",
        "# Get predictions for the test set\n",
        "predictions = best_model.test(testset)\n",
        "\n",
        "# Evaluate the model's performance\n",
        "accuracy.rmse(predictions)\n",
        "\n",
        "# Example: Get movie recommendations for a specific user\n",
        "user_id = 1\n",
        "user_movies = data[data['userId'] == user_id]['movieId'].unique()\n",
        "\n",
        "# Exclude movies the user has already rated\n",
        "unrated_movies = data['movieId'].unique()\n",
        "unrated_movies = [movie_id for movie_id in unrated_movies if movie_id not in user_movies]\n",
        "\n",
        "# Get predictions for unrated movies\n",
        "user_predictions = [best_model.predict(user_id, movie_id) for movie_id in unrated_movies]\n",
        "\n",
        "# Sort predictions by estimated rating in descending order\n",
        "sorted_predictions = sorted(user_predictions, key=lambda x: x.est, reverse=True)\n",
        "\n",
        "# Display the top N recommended movies\n",
        "top_n = 10\n",
        "top_recommendations = [(pred.iid, pred.est) for pred in sorted_predictions[:top_n]]\n",
        "print(f\"\\nTop {top_n} Recommendations for User {user_id}:\\n\", top_recommendations)\n"
      ],
      "metadata": {
        "colab": {
          "base_uri": "https://localhost:8080/"
        },
        "id": "Gu6Iv19kx_Eq",
        "outputId": "65340e1a-c7a8-47aa-d728-cb49c1606434"
      },
      "execution_count": 3,
      "outputs": [
        {
          "output_type": "stream",
          "name": "stdout",
          "text": [
            "Computing the cosine similarity matrix...\n",
            "Done computing similarity matrix.\n",
            "Computing the cosine similarity matrix...\n",
            "Done computing similarity matrix.\n",
            "Computing the cosine similarity matrix...\n",
            "Done computing similarity matrix.\n",
            "Computing the cosine similarity matrix...\n",
            "Done computing similarity matrix.\n",
            "Computing the cosine similarity matrix...\n",
            "Done computing similarity matrix.\n",
            "Computing the cosine similarity matrix...\n",
            "Done computing similarity matrix.\n",
            "Computing the cosine similarity matrix...\n",
            "Done computing similarity matrix.\n",
            "Computing the cosine similarity matrix...\n",
            "Done computing similarity matrix.\n",
            "Computing the cosine similarity matrix...\n",
            "Done computing similarity matrix.\n",
            "Best Parameters: {'k': 40, 'sim_options': {'name': 'cosine', 'user_based': True}}\n",
            "Computing the cosine similarity matrix...\n",
            "Done computing similarity matrix.\n",
            "RMSE: 0.9925\n",
            "\n",
            "Top 10 Recommendations for User 1:\n",
            " [(2086, 5), (1860, 5), (5017, 5), (5062, 5), (51471, 5), (7136, 5), (8955, 5), (3038, 5), (4088, 5), (4522, 5)]\n"
          ]
        }
      ]
    }
  ]
}